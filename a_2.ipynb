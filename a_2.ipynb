{
 "cells": [
  {
   "cell_type": "code",
   "execution_count": 6,
   "metadata": {},
   "outputs": [],
   "source": [
    "import pandas as pd\n",
    "from scipy.optimize import curve_fit\n",
    "from matplotlib import pyplot as plt\n",
    "import scipy.stats as stats\n",
    "import numpy as np\n",
    "from sklearn.metrics import mean_squared_error\n",
    "# from sklearn.linear_model import LinearRegression\n",
    "plt.rc(\"font\",family='MicroSoft YaHei',weight=\"bold\")"
   ]
  },
  {
   "cell_type": "code",
   "execution_count": 14,
   "metadata": {},
   "outputs": [
    {
     "name": "stdout",
     "output_type": "stream",
     "text": [
      "棉杆/淮南煤(CS/HN) 1.3074470149454645e-05\n",
      "棉杆/神木煤（CS/SM) 1.1794263255948392e-05\n",
      "棉杆/黑山煤(CS/HS) 1.6378477666535593e-05\n",
      "木屑/黑山煤(SD/HS) 7.760577084342962e-06\n",
      "木屑/神木煤(SD/SM) 1.262395596398713e-05\n",
      "小球藻/淮南煤(GA/HN) 1.6772546022154436e-05\n",
      "小球藻/内蒙褐煤 (GA/NM) 1.3832317011673276e-05\n",
      "小球藻/神木煤(GA/SM) 2.2167703261727742e-05\n",
      "稻壳/淮南煤(RH/HN) 1.2003356422460056e-05\n",
      "稻壳/神木煤(RH/SM) 0.00027159778448297256\n"
     ]
    }
   ],
   "source": [
    "data = pd.read_excel('./e1r3.xlsx')\n",
    "data = data[data['配比'] != 0]\n",
    "for example in data['试样'].drop_duplicates():\n",
    "    data_filtered = data[data['试样'] == example]\n",
    "    x = data_filtered['配比']\n",
    "    y = data_filtered['焦油产率']\n",
    "    # plt.scatter(x, y)\n",
    "    \n",
    "    # model\n",
    "    model = np.poly1d(np.polyfit(x, y, 2))\n",
    "    polyline = np.linspace(min(x), max(x), 800)\n",
    "    height = np.linspace(min(y), max(y), 800)\n",
    "    # plt.plot(polyline, model(polyline))\n",
    "    a = model[2]\n",
    "    b = model[1]\n",
    "    axis = -1*b/(2*a)\n",
    "    axiss = np.linspace(axis, axis+0.0001, 800)\n",
    "\n",
    "    MSE = mean_squared_error(y, model(x))\n",
    "\n",
    "    # plt.plot(axiss, height, color='red')\n",
    "    # plt.xlabel(f'在{axis:.2f}处为对称轴')\n",
    "    # plt.title(example)\n",
    "    print(example, MSE)\n",
    "    # plt.show()"
   ]
  },
  {
   "cell_type": "code",
   "execution_count": null,
   "metadata": {},
   "outputs": [],
   "source": []
  }
 ],
 "metadata": {
  "kernelspec": {
   "display_name": "nev",
   "language": "python",
   "name": "python3"
  },
  "language_info": {
   "codemirror_mode": {
    "name": "ipython",
    "version": 3
   },
   "file_extension": ".py",
   "mimetype": "text/x-python",
   "name": "python",
   "nbconvert_exporter": "python",
   "pygments_lexer": "ipython3",
   "version": "3.8.18"
  }
 },
 "nbformat": 4,
 "nbformat_minor": 2
}
