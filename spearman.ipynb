{
 "cells": [
  {
   "cell_type": "code",
   "execution_count": 11,
   "metadata": {},
   "outputs": [],
   "source": [
    "import numpy as np\n",
    "import pandas as pd\n",
    "data = pd.read_excel('./xxx.xlsx')"
   ]
  },
  {
   "cell_type": "code",
   "execution_count": 15,
   "metadata": {},
   "outputs": [
    {
     "data": {
      "text/html": [
       "<div>\n",
       "<style scoped>\n",
       "    .dataframe tbody tr th:only-of-type {\n",
       "        vertical-align: middle;\n",
       "    }\n",
       "\n",
       "    .dataframe tbody tr th {\n",
       "        vertical-align: top;\n",
       "    }\n",
       "\n",
       "    .dataframe thead th {\n",
       "        text-align: right;\n",
       "    }\n",
       "</style>\n",
       "<table border=\"1\" class=\"dataframe\">\n",
       "  <thead>\n",
       "    <tr style=\"text-align: right;\">\n",
       "      <th></th>\n",
       "      <th>正己烷不溶物（INS)g</th>\n",
       "      <th>焦油产率</th>\n",
       "      <th>水产率</th>\n",
       "      <th>焦渣产率</th>\n",
       "    </tr>\n",
       "  </thead>\n",
       "  <tbody>\n",
       "    <tr>\n",
       "      <th>正己烷不溶物（INS)g</th>\n",
       "      <td>1.000000</td>\n",
       "      <td>0.321584</td>\n",
       "      <td>0.084460</td>\n",
       "      <td>-0.199367</td>\n",
       "    </tr>\n",
       "    <tr>\n",
       "      <th>焦油产率</th>\n",
       "      <td>0.321584</td>\n",
       "      <td>1.000000</td>\n",
       "      <td>0.222148</td>\n",
       "      <td>-0.651314</td>\n",
       "    </tr>\n",
       "    <tr>\n",
       "      <th>水产率</th>\n",
       "      <td>0.084460</td>\n",
       "      <td>0.222148</td>\n",
       "      <td>1.000000</td>\n",
       "      <td>-0.845404</td>\n",
       "    </tr>\n",
       "    <tr>\n",
       "      <th>焦渣产率</th>\n",
       "      <td>-0.199367</td>\n",
       "      <td>-0.651314</td>\n",
       "      <td>-0.845404</td>\n",
       "      <td>1.000000</td>\n",
       "    </tr>\n",
       "  </tbody>\n",
       "</table>\n",
       "</div>"
      ],
      "text/plain": [
       "              正己烷不溶物（INS)g      焦油产率       水产率      焦渣产率\n",
       "正己烷不溶物（INS)g      1.000000  0.321584  0.084460 -0.199367\n",
       "焦油产率              0.321584  1.000000  0.222148 -0.651314\n",
       "水产率               0.084460  0.222148  1.000000 -0.845404\n",
       "焦渣产率             -0.199367 -0.651314 -0.845404  1.000000"
      ]
     },
     "execution_count": 15,
     "metadata": {},
     "output_type": "execute_result"
    }
   ],
   "source": [
    "data.corr()"
   ]
  },
  {
   "cell_type": "code",
   "execution_count": 12,
   "metadata": {},
   "outputs": [
    {
     "data": {
      "text/html": [
       "<div>\n",
       "<style scoped>\n",
       "    .dataframe tbody tr th:only-of-type {\n",
       "        vertical-align: middle;\n",
       "    }\n",
       "\n",
       "    .dataframe tbody tr th {\n",
       "        vertical-align: top;\n",
       "    }\n",
       "\n",
       "    .dataframe thead th {\n",
       "        text-align: right;\n",
       "    }\n",
       "</style>\n",
       "<table border=\"1\" class=\"dataframe\">\n",
       "  <thead>\n",
       "    <tr style=\"text-align: right;\">\n",
       "      <th></th>\n",
       "      <th>正己烷不溶物（INS)g</th>\n",
       "      <th>焦油产率</th>\n",
       "      <th>水产率</th>\n",
       "      <th>焦渣产率</th>\n",
       "    </tr>\n",
       "  </thead>\n",
       "  <tbody>\n",
       "    <tr>\n",
       "      <th>正己烷不溶物（INS)g</th>\n",
       "      <td>1.000000</td>\n",
       "      <td>0.175481</td>\n",
       "      <td>-0.011106</td>\n",
       "      <td>-0.029953</td>\n",
       "    </tr>\n",
       "    <tr>\n",
       "      <th>焦油产率</th>\n",
       "      <td>0.175481</td>\n",
       "      <td>1.000000</td>\n",
       "      <td>0.098191</td>\n",
       "      <td>-0.319952</td>\n",
       "    </tr>\n",
       "    <tr>\n",
       "      <th>水产率</th>\n",
       "      <td>-0.011106</td>\n",
       "      <td>0.098191</td>\n",
       "      <td>1.000000</td>\n",
       "      <td>-0.908025</td>\n",
       "    </tr>\n",
       "    <tr>\n",
       "      <th>焦渣产率</th>\n",
       "      <td>-0.029953</td>\n",
       "      <td>-0.319952</td>\n",
       "      <td>-0.908025</td>\n",
       "      <td>1.000000</td>\n",
       "    </tr>\n",
       "  </tbody>\n",
       "</table>\n",
       "</div>"
      ],
      "text/plain": [
       "              正己烷不溶物（INS)g      焦油产率       水产率      焦渣产率\n",
       "正己烷不溶物（INS)g      1.000000  0.175481 -0.011106 -0.029953\n",
       "焦油产率              0.175481  1.000000  0.098191 -0.319952\n",
       "水产率              -0.011106  0.098191  1.000000 -0.908025\n",
       "焦渣产率             -0.029953 -0.319952 -0.908025  1.000000"
      ]
     },
     "execution_count": 12,
     "metadata": {},
     "output_type": "execute_result"
    }
   ],
   "source": [
    "data.corr('spearman')\n"
   ]
  },
  {
   "cell_type": "code",
   "execution_count": 14,
   "metadata": {},
   "outputs": [
    {
     "data": {
      "text/html": [
       "<div>\n",
       "<style scoped>\n",
       "    .dataframe tbody tr th:only-of-type {\n",
       "        vertical-align: middle;\n",
       "    }\n",
       "\n",
       "    .dataframe tbody tr th {\n",
       "        vertical-align: top;\n",
       "    }\n",
       "\n",
       "    .dataframe thead th {\n",
       "        text-align: right;\n",
       "    }\n",
       "</style>\n",
       "<table border=\"1\" class=\"dataframe\">\n",
       "  <thead>\n",
       "    <tr style=\"text-align: right;\">\n",
       "      <th></th>\n",
       "      <th>正己烷不溶物（INS)g</th>\n",
       "      <th>焦油产率</th>\n",
       "      <th>水产率</th>\n",
       "      <th>焦渣产率</th>\n",
       "    </tr>\n",
       "  </thead>\n",
       "  <tbody>\n",
       "    <tr>\n",
       "      <th>正己烷不溶物（INS)g</th>\n",
       "      <td>1.000000</td>\n",
       "      <td>0.141164</td>\n",
       "      <td>-0.007199</td>\n",
       "      <td>-0.020754</td>\n",
       "    </tr>\n",
       "    <tr>\n",
       "      <th>焦油产率</th>\n",
       "      <td>0.141164</td>\n",
       "      <td>1.000000</td>\n",
       "      <td>0.084652</td>\n",
       "      <td>-0.242880</td>\n",
       "    </tr>\n",
       "    <tr>\n",
       "      <th>水产率</th>\n",
       "      <td>-0.007199</td>\n",
       "      <td>0.084652</td>\n",
       "      <td>1.000000</td>\n",
       "      <td>-0.748451</td>\n",
       "    </tr>\n",
       "    <tr>\n",
       "      <th>焦渣产率</th>\n",
       "      <td>-0.020754</td>\n",
       "      <td>-0.242880</td>\n",
       "      <td>-0.748451</td>\n",
       "      <td>1.000000</td>\n",
       "    </tr>\n",
       "  </tbody>\n",
       "</table>\n",
       "</div>"
      ],
      "text/plain": [
       "              正己烷不溶物（INS)g      焦油产率       水产率      焦渣产率\n",
       "正己烷不溶物（INS)g      1.000000  0.141164 -0.007199 -0.020754\n",
       "焦油产率              0.141164  1.000000  0.084652 -0.242880\n",
       "水产率              -0.007199  0.084652  1.000000 -0.748451\n",
       "焦渣产率             -0.020754 -0.242880 -0.748451  1.000000"
      ]
     },
     "execution_count": 14,
     "metadata": {},
     "output_type": "execute_result"
    }
   ],
   "source": [
    "data.corr(\"kendall\")"
   ]
  },
  {
   "cell_type": "code",
   "execution_count": null,
   "metadata": {},
   "outputs": [],
   "source": []
  }
 ],
 "metadata": {
  "kernelspec": {
   "display_name": "Python 3",
   "language": "python",
   "name": "python3"
  },
  "language_info": {
   "codemirror_mode": {
    "name": "ipython",
    "version": 3
   },
   "file_extension": ".py",
   "mimetype": "text/x-python",
   "name": "python",
   "nbconvert_exporter": "python",
   "pygments_lexer": "ipython3",
   "version": "3.8.18"
  }
 },
 "nbformat": 4,
 "nbformat_minor": 2
}
